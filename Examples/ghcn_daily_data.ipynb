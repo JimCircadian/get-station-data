{
 "cells": [
  {
   "cell_type": "markdown",
   "metadata": {},
   "source": [
    "# GHCN-Daily\n",
    "\n",
    "A set of Python tools to make it easier to work with station data from [Global Historical Climatology Network Daily (GHCND)](https://www.ncdc.noaa.gov/ghcn-daily-description).\n",
    "\n",
    "Extract variable/element of interest from the\n",
    "Global Historical Climatology Network Daily (GHCND)\n",
    "\n",
    "To run this you will need the GHCN-D '.dly' file for your chosen \n",
    "station (see https://www1.ncdc.noaa.gov/pub/data/ghcn/daily/ghcnd-stations.txt)\n",
    "\n",
    "More information on the data can be found here:\n",
    "https://www1.ncdc.noaa.gov/pub/data/ghcn/daily/readme.txt\n"
   ]
  },
  {
   "cell_type": "markdown",
   "metadata": {},
   "source": [
    "## Example"
   ]
  },
  {
   "cell_type": "code",
   "execution_count": 1,
   "metadata": {},
   "outputs": [],
   "source": [
    "import numpy as np\n",
    "import pandas as pd\n",
    "from get_station_data import ghcnd"
   ]
  },
  {
   "cell_type": "code",
   "execution_count": 2,
   "metadata": {},
   "outputs": [
    {
     "name": "stdout",
     "output_type": "stream",
     "text": [
      "PRCP values have been divided by ten as specified by readme.txt\n",
      "TMAX values have been divided by ten as specified by readme.txt\n",
      "TMIN values have been divided by ten as specified by readme.txt\n"
     ]
    }
   ],
   "source": [
    "'''\n",
    "1. Find Station Names from Here:\n",
    "    https://www1.ncdc.noaa.gov/pub/data/ghcn/daily/ghcnd-stations.txt\n",
    "2. Download station file (for example...)\n",
    "    wget ftp://ftp.ncdc.noaa.gov/pub/data/ghcn/daily/all/CHM00057516.dly .\n",
    "'''\n",
    "\n",
    "### Choose a station (by name, lon/lat etc)\n",
    "stn_md = ghcnd.get_stn_metadata()\n",
    "my_stn = stn_md[ stn_md['name'] == 'CHONGQING' ].iloc[0]\n",
    "\n",
    "### Name of original daily data file from GHCN-D\n",
    "filename = my_stn['station']+'.dly' \n",
    "\n",
    "### Extract all data into a labelled numpy array\n",
    "df = ghcnd.create_DataFrame('raw_data/'+filename)\n",
    "\n",
    "### Filter data for, e.g., a single variable\n",
    "var = 'TMIN'\n",
    "df = df[ df['element'] == var ]\n",
    "\n",
    "### Tidy up columns\n",
    "df = df.rename(index=str, columns={\"value\": var})\n",
    "df = df.drop(['element'], axis=1)\n",
    "\n",
    "### Add metadata\n",
    "df = ghcnd.add_metadata(df, stn_md)"
   ]
  },
  {
   "cell_type": "code",
   "execution_count": 3,
   "metadata": {},
   "outputs": [
    {
     "data": {
      "text/html": [
       "<div>\n",
       "<style scoped>\n",
       "    .dataframe tbody tr th:only-of-type {\n",
       "        vertical-align: middle;\n",
       "    }\n",
       "\n",
       "    .dataframe tbody tr th {\n",
       "        vertical-align: top;\n",
       "    }\n",
       "\n",
       "    .dataframe thead th {\n",
       "        text-align: right;\n",
       "    }\n",
       "</style>\n",
       "<table border=\"1\" class=\"dataframe\">\n",
       "  <thead>\n",
       "    <tr style=\"text-align: right;\">\n",
       "      <th></th>\n",
       "      <th>station</th>\n",
       "      <th>year</th>\n",
       "      <th>month</th>\n",
       "      <th>day</th>\n",
       "      <th>TMIN</th>\n",
       "      <th>date</th>\n",
       "      <th>lat</th>\n",
       "      <th>lon</th>\n",
       "      <th>elev</th>\n",
       "      <th>name</th>\n",
       "    </tr>\n",
       "  </thead>\n",
       "  <tbody>\n",
       "    <tr>\n",
       "      <th>620</th>\n",
       "      <td>CHM00057516</td>\n",
       "      <td>1951</td>\n",
       "      <td>1</td>\n",
       "      <td>1</td>\n",
       "      <td>6.1</td>\n",
       "      <td>1951-01-01</td>\n",
       "      <td>29.583</td>\n",
       "      <td>106.467</td>\n",
       "      <td>416.0</td>\n",
       "      <td>CHONGQING</td>\n",
       "    </tr>\n",
       "    <tr>\n",
       "      <th>621</th>\n",
       "      <td>CHM00057516</td>\n",
       "      <td>1951</td>\n",
       "      <td>1</td>\n",
       "      <td>2</td>\n",
       "      <td>4.3</td>\n",
       "      <td>1951-01-02</td>\n",
       "      <td>29.583</td>\n",
       "      <td>106.467</td>\n",
       "      <td>416.0</td>\n",
       "      <td>CHONGQING</td>\n",
       "    </tr>\n",
       "    <tr>\n",
       "      <th>622</th>\n",
       "      <td>CHM00057516</td>\n",
       "      <td>1951</td>\n",
       "      <td>1</td>\n",
       "      <td>3</td>\n",
       "      <td>3.0</td>\n",
       "      <td>1951-01-03</td>\n",
       "      <td>29.583</td>\n",
       "      <td>106.467</td>\n",
       "      <td>416.0</td>\n",
       "      <td>CHONGQING</td>\n",
       "    </tr>\n",
       "    <tr>\n",
       "      <th>623</th>\n",
       "      <td>CHM00057516</td>\n",
       "      <td>1951</td>\n",
       "      <td>1</td>\n",
       "      <td>4</td>\n",
       "      <td>8.3</td>\n",
       "      <td>1951-01-04</td>\n",
       "      <td>29.583</td>\n",
       "      <td>106.467</td>\n",
       "      <td>416.0</td>\n",
       "      <td>CHONGQING</td>\n",
       "    </tr>\n",
       "    <tr>\n",
       "      <th>624</th>\n",
       "      <td>CHM00057516</td>\n",
       "      <td>1951</td>\n",
       "      <td>1</td>\n",
       "      <td>5</td>\n",
       "      <td>8.9</td>\n",
       "      <td>1951-01-05</td>\n",
       "      <td>29.583</td>\n",
       "      <td>106.467</td>\n",
       "      <td>416.0</td>\n",
       "      <td>CHONGQING</td>\n",
       "    </tr>\n",
       "    <tr>\n",
       "      <th>625</th>\n",
       "      <td>CHM00057516</td>\n",
       "      <td>1951</td>\n",
       "      <td>1</td>\n",
       "      <td>6</td>\n",
       "      <td>8.4</td>\n",
       "      <td>1951-01-06</td>\n",
       "      <td>29.583</td>\n",
       "      <td>106.467</td>\n",
       "      <td>416.0</td>\n",
       "      <td>CHONGQING</td>\n",
       "    </tr>\n",
       "    <tr>\n",
       "      <th>626</th>\n",
       "      <td>CHM00057516</td>\n",
       "      <td>1951</td>\n",
       "      <td>1</td>\n",
       "      <td>7</td>\n",
       "      <td>7.7</td>\n",
       "      <td>1951-01-07</td>\n",
       "      <td>29.583</td>\n",
       "      <td>106.467</td>\n",
       "      <td>416.0</td>\n",
       "      <td>CHONGQING</td>\n",
       "    </tr>\n",
       "    <tr>\n",
       "      <th>627</th>\n",
       "      <td>CHM00057516</td>\n",
       "      <td>1951</td>\n",
       "      <td>1</td>\n",
       "      <td>8</td>\n",
       "      <td>10.5</td>\n",
       "      <td>1951-01-08</td>\n",
       "      <td>29.583</td>\n",
       "      <td>106.467</td>\n",
       "      <td>416.0</td>\n",
       "      <td>CHONGQING</td>\n",
       "    </tr>\n",
       "    <tr>\n",
       "      <th>628</th>\n",
       "      <td>CHM00057516</td>\n",
       "      <td>1951</td>\n",
       "      <td>1</td>\n",
       "      <td>9</td>\n",
       "      <td>4.0</td>\n",
       "      <td>1951-01-09</td>\n",
       "      <td>29.583</td>\n",
       "      <td>106.467</td>\n",
       "      <td>416.0</td>\n",
       "      <td>CHONGQING</td>\n",
       "    </tr>\n",
       "    <tr>\n",
       "      <th>629</th>\n",
       "      <td>CHM00057516</td>\n",
       "      <td>1951</td>\n",
       "      <td>1</td>\n",
       "      <td>10</td>\n",
       "      <td>3.2</td>\n",
       "      <td>1951-01-10</td>\n",
       "      <td>29.583</td>\n",
       "      <td>106.467</td>\n",
       "      <td>416.0</td>\n",
       "      <td>CHONGQING</td>\n",
       "    </tr>\n",
       "  </tbody>\n",
       "</table>\n",
       "</div>"
      ],
      "text/plain": [
       "         station  year  month  day  TMIN       date     lat      lon   elev  \\\n",
       "620  CHM00057516  1951      1    1   6.1 1951-01-01  29.583  106.467  416.0   \n",
       "621  CHM00057516  1951      1    2   4.3 1951-01-02  29.583  106.467  416.0   \n",
       "622  CHM00057516  1951      1    3   3.0 1951-01-03  29.583  106.467  416.0   \n",
       "623  CHM00057516  1951      1    4   8.3 1951-01-04  29.583  106.467  416.0   \n",
       "624  CHM00057516  1951      1    5   8.9 1951-01-05  29.583  106.467  416.0   \n",
       "625  CHM00057516  1951      1    6   8.4 1951-01-06  29.583  106.467  416.0   \n",
       "626  CHM00057516  1951      1    7   7.7 1951-01-07  29.583  106.467  416.0   \n",
       "627  CHM00057516  1951      1    8  10.5 1951-01-08  29.583  106.467  416.0   \n",
       "628  CHM00057516  1951      1    9   4.0 1951-01-09  29.583  106.467  416.0   \n",
       "629  CHM00057516  1951      1   10   3.2 1951-01-10  29.583  106.467  416.0   \n",
       "\n",
       "          name  \n",
       "620  CHONGQING  \n",
       "621  CHONGQING  \n",
       "622  CHONGQING  \n",
       "623  CHONGQING  \n",
       "624  CHONGQING  \n",
       "625  CHONGQING  \n",
       "626  CHONGQING  \n",
       "627  CHONGQING  \n",
       "628  CHONGQING  \n",
       "629  CHONGQING  "
      ]
     },
     "execution_count": 3,
     "metadata": {},
     "output_type": "execute_result"
    }
   ],
   "source": [
    "df.drop(columns=['mflag','qflag','sflag']).head(n=10)"
   ]
  },
  {
   "cell_type": "code",
   "execution_count": 4,
   "metadata": {},
   "outputs": [],
   "source": [
    "### Save to file\n",
    "name = '-'.join(np.unique(df['name'].values))    # in case there are more than one\n",
    "stn  = '-'.join(np.unique(df['station'].values))\n",
    "df.to_csv(name+'_'+stn+'_'+var+'_GHCN-D.csv', index=False)"
   ]
  },
  {
   "cell_type": "code",
   "execution_count": 15,
   "metadata": {},
   "outputs": [
    {
     "data": {
      "text/plain": [
       "<matplotlib.axes._subplots.AxesSubplot at 0x320af9a90>"
      ]
     },
     "execution_count": 15,
     "metadata": {},
     "output_type": "execute_result"
    },
    {
     "data": {
      "image/png": "[encoded data removed]",
      "text/plain": [
       "<Figure size 432x288 with 1 Axes>"
      ]
     },
     "metadata": {
      "needs_background": "light"
     },
     "output_type": "display_data"
    }
   ],
   "source": [
    "df['TMIN'].plot()"
   ]
  },
  {
   "cell_type": "code",
   "execution_count": 16,
   "metadata": {},
   "outputs": [
    {
     "data": {
      "text/plain": [
       "<matplotlib.axes._subplots.AxesSubplot at 0x32076e550>"
      ]
     },
     "execution_count": 16,
     "metadata": {},
     "output_type": "execute_result"
    },
    {
     "data": {
      "image/png": "[encoded data removed]",
      "text/plain": [
       "<Figure size 432x288 with 1 Axes>"
      ]
     },
     "metadata": {
      "needs_background": "light"
     },
     "output_type": "display_data"
    }
   ],
   "source": [
    "df['TMIN'].plot.hist()"
   ]
  },
  {
   "cell_type": "code",
   "execution_count": null,
   "metadata": {},
   "outputs": [],
   "source": []
  }
 ],
 "metadata": {
  "kernelspec": {
   "display_name": "Python 3",
   "language": "python",
   "name": "python3"
  },
  "language_info": {
   "codemirror_mode": {
    "name": "ipython",
    "version": 3
   },
   "file_extension": ".py",
   "mimetype": "text/x-python",
   "name": "python",
   "nbconvert_exporter": "python",
   "pygments_lexer": "ipython3",
   "version": "3.6.6"
  }
 },
 "nbformat": 4,
 "nbformat_minor": 2
}
